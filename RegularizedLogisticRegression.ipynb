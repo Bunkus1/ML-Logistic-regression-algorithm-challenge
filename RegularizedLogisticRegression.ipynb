{
 "cells": [
  {
   "cell_type": "code",
   "execution_count": 4,
   "metadata": {},
   "outputs": [],
   "source": [
    "import numpy as np\n",
    "import scipy.optimize as opt\n",
    "from scipy.io import loadmat\n",
    "from CostGradient import cost, gradient\n",
    "from SigmoidFunction import sigmoid\n",
    "class LogisticRegression:\n",
    "    '''\n",
    "    Regularised Logistic Regression\n",
    "    '''\n",
    "    def __init__(self,lmbda=0.1,num_iter=100,fit_intercept=True,threshold=0.5):\n",
    "        self.lmbda = lmbda\n",
    "        self.num_iter = num_iter\n",
    "        self.fit_intercept = fit_intercept\n",
    "        self.threshold = threshold\n",
    "        return None\n",
    "    \n",
    "    def intercept(self,X):\n",
    "        '''\n",
    "        This allows the y-intercept to be computed\n",
    "        '''\n",
    "        ones = np.ones((len(X),1))\n",
    "        return np.c_[ones,X]\n",
    "    \n",
    "    def fit(self,X,y):\n",
    "        if self.fit_intercept:\n",
    "            X = self.intercept(X)\n",
    "        #p = len(y)\n",
    "        (m,n) = X.shape\n",
    "        lmbda = self.lmbda\n",
    "        self.num_class = np.unique(y).size\n",
    "        \n",
    "        # binary logistic regression\n",
    "        if self.num_class == 2:\n",
    "            coefs = np.zeros((1,n))\n",
    "            coefs = opt.fmin_cg(f=cost,x0=coefs,fprime=gradient,args=(X,y.flatten(),lmbda),maxiter=self.num_iter,disp=False)\n",
    "        \n",                               
    "        \n",
    "        # One vs all (multiple class)\n",
    "        elif self.num_class > 2:\n",
    "            coefs = np.zeros((self.num_class,n))\n",
    "            for i in range(self.num_class):\n",
    "                digit = i \n",
    "                coefs[i] = opt.fmin_cg(f=cost,x0=coefs[i],fprime=gradient,args=(X,(y==digit).flatten(),lmbda),maxiter=self.num_iter,disp=False)\n",
    "        \n",                               
    "        self.coefs = coefs\n",
    "    \n",
    "    def predict_proba(self,X):\n",
    "        if self.fit_intercept:\n",
    "            X = self.intercept(X)\n",
    "        self.proba = sigmoid(np.dot(X,self.coefs.T))\n",
    "        return self.proba\n",
    "    \n",
    "    def predict(self,X):\n",
    "        if self.num_class == 2:\n",
    "            predict = (self.predict_proba(X)>=self.threshold).astype(int)\n",
    "        elif self.num_class > 2:\n",
    "            if self.fit_intercept:\n",
    "                X = self.intercept(X)\n",
    "            predict = np.argmax(np.dot(X,self.coefs.T),axis=1)\n",
    "        return predict\n",
    "    \n",
    "    def score(self,X,y):\n",
    "        pred  = self.predict(X)\n",
    "        return np.mean(pred==y.flatten())*100\n"
   ]
  }
 ],
 "metadata": {
  "kernelspec": {
   "display_name": "Python 3",
   "language": "python",
   "name": "python3"
  },
  "language_info": {
   "codemirror_mode": {
    "name": "ipython",
    "version": 3
   },
   "file_extension": ".py",
   "mimetype": "text/x-python",
   "name": "python",
   "nbconvert_exporter": "python",
   "pygments_lexer": "ipython3",
   "version": "3.7.4"
  },
  "varInspector": {
   "cols": {
    "lenName": 16,
    "lenType": 16,
    "lenVar": 40
   },
   "kernels_config": {
    "python": {
     "delete_cmd_postfix": "",
     "delete_cmd_prefix": "del ",
     "library": "var_list.py",
     "varRefreshCmd": "print(var_dic_list())"
    },
    "r": {
     "delete_cmd_postfix": ") ",
     "delete_cmd_prefix": "rm(",
     "library": "var_list.r",
     "varRefreshCmd": "cat(var_dic_list()) "
    }
   },
   "types_to_exclude": [
    "module",
    "function",
    "builtin_function_or_method",
    "instance",
    "_Feature"
   ],
   "window_display": false
  }
 },
 "nbformat": 4,
 "nbformat_minor": 2
}
